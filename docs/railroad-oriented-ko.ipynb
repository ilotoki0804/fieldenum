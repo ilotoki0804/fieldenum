{
 "cells": [
  {
   "cell_type": "markdown",
   "metadata": {},
   "source": [
    "## Railroad oriented programming with BoundResult - 한국어"
   ]
  },
  {
   "cell_type": "markdown",
   "metadata": {},
   "source": [
    "파이썬은 예외를 통해 작업의 성패를 관리하지만,\n",
    "함수형 프로그래밍 언어들은 railroad oriented programming(이하 ROP)이라는 재미있는 개념을 통해 Exception을 대체합니다.\n",
    "\n",
    "fieldenum은 파이썬에 잘 어울리는 ROP를 위한 `BoundResult`라는 enum을 `fieldenum.enums` 모듈에서 제공하고 있습니다.\n",
    "\n",
    "<!-- > [!CAUTION] -->\n",
    "> `fieldenums.enums` 모듈은 현재는 파이썬 3.12 이상에서만 사용 가능합니다. 향후에는 지원이 확대될 수 있습니다.\n",
    "\n",
    "이 문서에서는 `BoundResult`를 통한 파이썬에서의 ROP를 구현하는 방식을 설명합니다."
   ]
  },
  {
   "cell_type": "markdown",
   "metadata": {},
   "source": [
    "## 기초"
   ]
  },
  {
   "cell_type": "markdown",
   "metadata": {},
   "source": [
    "다음과 같은 함수가 있다고 이야기해 봅시다."
   ]
  },
  {
   "cell_type": "code",
   "execution_count": 2,
   "metadata": {},
   "outputs": [],
   "source": [
    "from fieldenum import Unit, Variant, fieldenum, unreachable\n",
    "from fieldenum.enums import BoundResult, Message, Option\n",
    "\n",
    "\n",
    "def calculate(value: str) -> float:\n",
    "    int_value = int(value)\n",
    "    return 100 / int_value"
   ]
  },
  {
   "cell_type": "markdown",
   "metadata": {},
   "source": [
    "이 함수는 문자열로 값을 받아서 정수로 변환한 다음에 100에서 변환된 값을 나눈 뒤 값을 내보내는 함수입니다.\n",
    "다음과 같이 사용할 수 있습니다.\n"
   ]
  },
  {
   "cell_type": "code",
   "execution_count": 2,
   "metadata": {},
   "outputs": [],
   "source": [
    "assert calculate(\"5\") == 20.0\n",
    "assert calculate(\"10\") == 10.0\n",
    "assert calculate(\"100\") == 1.0\n",
    "assert calculate(\"500\") == 0.2"
   ]
  },
  {
   "cell_type": "markdown",
   "metadata": {},
   "source": [
    "이 함수는 두 가지 상황에서 오류를 내보낼 가능성이 있습니다.\n",
    "첫 번째는 `value`를 `int`로 변환하는 데에 실패하면 `ValueError`가 발생할 가능성이 있고,\n",
    "두 번쩨는 `int_value`가 `0`이 되면 `ZeroDivisionError`가 발생할 가능성이 있습니다."
   ]
  },
  {
   "cell_type": "code",
   "execution_count": 3,
   "metadata": {},
   "outputs": [
    {
     "ename": "ValueError",
     "evalue": "invalid literal for int() with base 10: 'not_an_integer'",
     "output_type": "error",
     "traceback": [
      "\u001b[1;31m---------------------------------------------------------------------------\u001b[0m",
      "\u001b[1;31mValueError\u001b[0m                                Traceback (most recent call last)",
      "Cell \u001b[1;32mIn[3], line 1\u001b[0m\n\u001b[1;32m----> 1\u001b[0m \u001b[43mcalculate\u001b[49m\u001b[43m(\u001b[49m\u001b[38;5;124;43m\"\u001b[39;49m\u001b[38;5;124;43mnot_an_integer\u001b[39;49m\u001b[38;5;124;43m\"\u001b[39;49m\u001b[43m)\u001b[49m  \u001b[38;5;66;03m# ValueError\u001b[39;00m\n",
      "Cell \u001b[1;32mIn[1], line 6\u001b[0m, in \u001b[0;36mcalculate\u001b[1;34m(value)\u001b[0m\n\u001b[0;32m      5\u001b[0m \u001b[38;5;28;01mdef\u001b[39;00m \u001b[38;5;21mcalculate\u001b[39m(value: \u001b[38;5;28mstr\u001b[39m) \u001b[38;5;241m-\u001b[39m\u001b[38;5;241m>\u001b[39m \u001b[38;5;28mfloat\u001b[39m:\n\u001b[1;32m----> 6\u001b[0m     int_value \u001b[38;5;241m=\u001b[39m \u001b[38;5;28;43mint\u001b[39;49m\u001b[43m(\u001b[49m\u001b[43mvalue\u001b[49m\u001b[43m)\u001b[49m\n\u001b[0;32m      7\u001b[0m     \u001b[38;5;28;01mreturn\u001b[39;00m \u001b[38;5;241m100\u001b[39m \u001b[38;5;241m/\u001b[39m int_value\n",
      "\u001b[1;31mValueError\u001b[0m: invalid literal for int() with base 10: 'not_an_integer'"
     ]
    }
   ],
   "source": [
    "calculate(\"not_an_integer\")  # ValueError"
   ]
  },
  {
   "cell_type": "code",
   "execution_count": 4,
   "metadata": {},
   "outputs": [
    {
     "ename": "ZeroDivisionError",
     "evalue": "division by zero",
     "output_type": "error",
     "traceback": [
      "\u001b[1;31m---------------------------------------------------------------------------\u001b[0m",
      "\u001b[1;31mZeroDivisionError\u001b[0m                         Traceback (most recent call last)",
      "Cell \u001b[1;32mIn[4], line 1\u001b[0m\n\u001b[1;32m----> 1\u001b[0m \u001b[43mcalculate\u001b[49m\u001b[43m(\u001b[49m\u001b[38;5;124;43m\"\u001b[39;49m\u001b[38;5;124;43m0\u001b[39;49m\u001b[38;5;124;43m\"\u001b[39;49m\u001b[43m)\u001b[49m  \u001b[38;5;66;03m# ZeroDivisionError\u001b[39;00m\n",
      "Cell \u001b[1;32mIn[1], line 7\u001b[0m, in \u001b[0;36mcalculate\u001b[1;34m(value)\u001b[0m\n\u001b[0;32m      5\u001b[0m \u001b[38;5;28;01mdef\u001b[39;00m \u001b[38;5;21mcalculate\u001b[39m(value: \u001b[38;5;28mstr\u001b[39m) \u001b[38;5;241m-\u001b[39m\u001b[38;5;241m>\u001b[39m \u001b[38;5;28mfloat\u001b[39m:\n\u001b[0;32m      6\u001b[0m     int_value \u001b[38;5;241m=\u001b[39m \u001b[38;5;28mint\u001b[39m(value)\n\u001b[1;32m----> 7\u001b[0m     \u001b[38;5;28;01mreturn\u001b[39;00m \u001b[38;5;241;43m100\u001b[39;49m\u001b[43m \u001b[49m\u001b[38;5;241;43m/\u001b[39;49m\u001b[43m \u001b[49m\u001b[43mint_value\u001b[49m\n",
      "\u001b[1;31mZeroDivisionError\u001b[0m: division by zero"
     ]
    }
   ],
   "source": [
    "calculate(\"0\")  # ZeroDivisionError"
   ]
  },
  {
   "cell_type": "markdown",
   "metadata": {},
   "source": [
    "예외를 이용해 잘못된 값을 처리하는 것은 장점도 있지만 단점도 명확합니다.\n",
    "우선 사용자는 해당 함수가 어떤 오류를 내보낼지에 대해 알 수가 없습니다.\n",
    "또한 개발자도 사용자가 함수의 오류를 적절하게 처리했는지를 알 수 있는 방법이나 처리하도록 강제할 수 있는 방법이 없습니다."
   ]
  },
  {
   "cell_type": "markdown",
   "metadata": {},
   "source": [
    "ROP는 다른 접근을 취합니다.\n",
    "예외라는 또다른 제어 흐름을 만드는 대신, 성공과 실패라는 두 가지 상태를 가질 수 있는 하나의 타입을 리턴하는 방식을 사용합니다.\n",
    "사용자가 값을 사용하려면, 해당 타입을 직접 처리해 오류를 해결해야 합니다."
   ]
  },
  {
   "cell_type": "markdown",
   "metadata": {},
   "source": [
    "한 번 `BoundResult`를 이용해서 구현해 보죠.\n",
    "`BoundResult`는 `Success`와 `Failed` 두 상태를 지닙니다.\n",
    "(두 번째 인자에 들어가는 값에 대해서는 조금 이따가 설명해 드리겠습니다.)"
   ]
  },
  {
   "cell_type": "code",
   "execution_count": 5,
   "metadata": {},
   "outputs": [
    {
     "name": "stdout",
     "output_type": "stream",
     "text": [
      "BoundResult.Success('operation success!', <class 'Exception'>)\n",
      "BoundResult.Failed(ValueError('operation failed...'), <class 'Exception'>)\n"
     ]
    }
   ],
   "source": [
    "print(BoundResult.Success(\"operation success!\", Exception))  # 성공을 나타냄\n",
    "print(BoundResult.Failed(ValueError(\"operation failed...\"), Exception))  # 실패를 나타냄"
   ]
  },
  {
   "cell_type": "markdown",
   "metadata": {},
   "source": [
    "파이썬 함수를 원래 예외를 raise해 성패를 알리지만,\n",
    "ROP를 사용하는 함수는 그 대신 `Success`와 `Failed`를 통해 값을 보냄으로써 성패를 알립니다."
   ]
  },
  {
   "cell_type": "code",
   "execution_count": 3,
   "metadata": {},
   "outputs": [],
   "source": [
    "def ordinary_python_function(value) -> str:\n",
    "    if isinstance(value, str):\n",
    "        return value + \"world!\"  # valid operation returns.\n",
    "    else:\n",
    "        raise TypeError(\"Type of value is invalid\")  # invalid operation raises.\n",
    "\n",
    "def rop_function(value) -> BoundResult[str, Exception]:\n",
    "    if isinstance(value, str):\n",
    "        return BoundResult.Success(value + \"world!\", Exception)  # valid operation returns Success.\n",
    "    else:\n",
    "        return BoundResult.Failed(TypeError(\"Type of value is invalid\"), Exception)  # invalid operation returns Failed."
   ]
  },
  {
   "cell_type": "markdown",
   "metadata": {},
   "source": [
    "이렇게 하면 사용자는 이제 오류가 일어나지 않을 거라고 넘겨짚을 수 없습니다. 반드시 어떠한 방식으로든 명시적으로 예외를 처리해야 합니다."
   ]
  },
  {
   "cell_type": "code",
   "execution_count": null,
   "metadata": {},
   "outputs": [],
   "source": [
    "result1: str = ordinary_python_function(1233)\n",
    "print(result1)  # 작동하지 않더라도 아무튼 사용할 수도 있습니다"
   ]
  },
  {
   "cell_type": "code",
   "execution_count": 6,
   "metadata": {},
   "outputs": [
    {
     "name": "stdout",
     "output_type": "stream",
     "text": [
      "failed...\n"
     ]
    }
   ],
   "source": [
    "result2: BoundResult[str, Exception] = rop_function(123)\n",
    "\n",
    "match result2:  # 명시적으로 값을 처리하지 않으면 사용할 수 없습니다.\n",
    "    case BoundResult.Success(value, _):\n",
    "        print(value)\n",
    "\n",
    "    case BoundResult.Failed(err, _):\n",
    "        print(\"failed...\")"
   ]
  },
  {
   "cell_type": "markdown",
   "metadata": {},
   "source": [
    "근데 그러면 모든 함수를 저렇게 못생기고 일반적인 모습에서 벗어나는 방식으로 짜야 할까요?\n",
    "\n",
    "물론 아닙니다. `BoundResult.wrap` 데코레이터를 통해 값을 내보내는 일반적인 함수를 `BoundResult`를 내보내는 함수로 변환할 수 있습니다."
   ]
  },
  {
   "cell_type": "code",
   "execution_count": 8,
   "metadata": {},
   "outputs": [],
   "source": [
    "@BoundResult.wrap(ArithmeticError)\n",
    "def calculate(value: str) -> float:\n",
    "    int_value = int(value)\n",
    "    return 100 / int_value"
   ]
  },
  {
   "cell_type": "markdown",
   "metadata": {},
   "source": [
    "이제 `calculate`는 `@BoundResult.wrap(Exception)`로 감싸졌습니다.\n",
    "이제 한 번 다시 `calculate`를 사용해 봅시다."
   ]
  },
  {
   "cell_type": "code",
   "execution_count": 9,
   "metadata": {},
   "outputs": [
    {
     "data": {
      "text/plain": [
       "BoundResult.Success(20.0, <class 'ArithmeticError'>)"
      ]
     },
     "execution_count": 9,
     "metadata": {},
     "output_type": "execute_result"
    }
   ],
   "source": [
    "calculate(\"5\")"
   ]
  },
  {
   "cell_type": "markdown",
   "metadata": {},
   "source": [
    "함수값 `20.0`이 그대로 리턴되는 대신 `BoundResult.Success`라는 값으로 감싸진 것을 확인할 수 있습니다.\n",
    "이는 이 함수가 예외를 일으키지 않고 정상적으로 값을 반환했다는 의미입니다.\n",
    "\n",
    "에제 한 번 함수가 실패하도록 해 볼까요? 다음과 같은 코드는 원래 예외를 일으켜야 합니다."
   ]
  },
  {
   "cell_type": "code",
   "execution_count": 10,
   "metadata": {},
   "outputs": [
    {
     "data": {
      "text/plain": [
       "BoundResult.Failed(ZeroDivisionError('division by zero'), <class 'ArithmeticError'>)"
      ]
     },
     "execution_count": 10,
     "metadata": {},
     "output_type": "execute_result"
    }
   ],
   "source": [
    "calculate(\"0\")"
   ]
  },
  {
   "cell_type": "markdown",
   "metadata": {},
   "source": [
    "예외가 일어나는 대신 `BoundResult.Failed`라는 배리언트가 리턴되었네요.\n",
    "이는 `BoundResult.wrap`으로 감싸진 함수가 예외를 일으킬 경우 예외를 잡아 `BoundResult.Failed`의 값으로 만들어 리턴합니다."
   ]
  },
  {
   "cell_type": "markdown",
   "metadata": {},
   "source": [
    "좋네요. 그렇지만 특정 오류는 리턴으로 처리되는 대신 그냥 예외로 던져지는 것이 나을 수도 있습니다. 예를 들어 `KeyboardInterrupt`나 `SystemExit`같은 오류는 굳이 잡기보단 원래 자기가 하던 일을 할 수 있도록 오류가 전파되는 것이 더 좋을 수 있습니다.\n",
    "\n",
    "따라서 사용자는 bound를 명시적으로 설정해야 합니다. 이는 예외가 전파되지 않을 기준을 설정합니다. 예를 들어 우리의 `calculate` 함수는 `ArithmeticError`를 바운드로 설정했는데, `ZeroDivisionError`는 `ArithmeticError`의 서브클래스이므로 예외가 전파되는 대신 `BoundResult.Failed`가 리턴됩니다.\n",
    "하지만 `int` 함수는 변환에 실패했을 경우 `ValueError`를 내보내고, 이는 `ArithmeticError`의 서브클래스가 아니기 때문에 이는 오류로 전파됩니다."
   ]
  },
  {
   "cell_type": "code",
   "execution_count": 11,
   "metadata": {},
   "outputs": [
    {
     "ename": "ValueError",
     "evalue": "invalid literal for int() with base 10: 'not_an_integer'",
     "output_type": "error",
     "traceback": [
      "\u001b[1;31m---------------------------------------------------------------------------\u001b[0m",
      "\u001b[1;31mValueError\u001b[0m                                Traceback (most recent call last)",
      "Cell \u001b[1;32mIn[11], line 1\u001b[0m\n\u001b[1;32m----> 1\u001b[0m \u001b[43mcalculate\u001b[49m\u001b[43m(\u001b[49m\u001b[38;5;124;43m\"\u001b[39;49m\u001b[38;5;124;43mnot_an_integer\u001b[39;49m\u001b[38;5;124;43m\"\u001b[39;49m\u001b[43m)\u001b[49m\n",
      "File \u001b[1;32m~\\fieldenum\\src\\fieldenum\\enums.py:186\u001b[0m, in \u001b[0;36mBoundResult.wrap.<locals>.decorator.<locals>.inner\u001b[1;34m(*args, **kwargs)\u001b[0m\n\u001b[0;32m    184\u001b[0m \u001b[38;5;28;01mdef\u001b[39;00m \u001b[38;5;21minner\u001b[39m(\u001b[38;5;241m*\u001b[39margs, \u001b[38;5;241m*\u001b[39m\u001b[38;5;241m*\u001b[39mkwargs):\n\u001b[0;32m    185\u001b[0m     \u001b[38;5;28;01mtry\u001b[39;00m:\n\u001b[1;32m--> 186\u001b[0m         \u001b[38;5;28;01mreturn\u001b[39;00m BoundResult\u001b[38;5;241m.\u001b[39mSuccess(\u001b[43mfunc\u001b[49m\u001b[43m(\u001b[49m\u001b[38;5;241;43m*\u001b[39;49m\u001b[43margs\u001b[49m\u001b[43m,\u001b[49m\u001b[43m \u001b[49m\u001b[38;5;241;43m*\u001b[39;49m\u001b[38;5;241;43m*\u001b[39;49m\u001b[43mkwargs\u001b[49m\u001b[43m)\u001b[49m, Bound)\n\u001b[0;32m    187\u001b[0m     \u001b[38;5;28;01mexcept\u001b[39;00m Bound \u001b[38;5;28;01mas\u001b[39;00m exc:\n\u001b[0;32m    188\u001b[0m         \u001b[38;5;28;01mreturn\u001b[39;00m BoundResult\u001b[38;5;241m.\u001b[39mFailed(exc, Bound)\n",
      "Cell \u001b[1;32mIn[8], line 3\u001b[0m, in \u001b[0;36mcalculate\u001b[1;34m(value)\u001b[0m\n\u001b[0;32m      1\u001b[0m \u001b[38;5;129m@BoundResult\u001b[39m\u001b[38;5;241m.\u001b[39mwrap(\u001b[38;5;167;01mArithmeticError\u001b[39;00m)\n\u001b[0;32m      2\u001b[0m \u001b[38;5;28;01mdef\u001b[39;00m \u001b[38;5;21mcalculate\u001b[39m(value: \u001b[38;5;28mstr\u001b[39m) \u001b[38;5;241m-\u001b[39m\u001b[38;5;241m>\u001b[39m \u001b[38;5;28mfloat\u001b[39m:\n\u001b[1;32m----> 3\u001b[0m     int_value \u001b[38;5;241m=\u001b[39m \u001b[38;5;28;43mint\u001b[39;49m\u001b[43m(\u001b[49m\u001b[43mvalue\u001b[49m\u001b[43m)\u001b[49m\n\u001b[0;32m      4\u001b[0m     \u001b[38;5;28;01mreturn\u001b[39;00m \u001b[38;5;241m100\u001b[39m \u001b[38;5;241m/\u001b[39m int_value\n",
      "\u001b[1;31mValueError\u001b[0m: invalid literal for int() with base 10: 'not_an_integer'"
     ]
    }
   ],
   "source": [
    "calculate(\"not_an_integer\")"
   ]
  },
  {
   "cell_type": "markdown",
   "metadata": {},
   "source": [
    "마지막으로 `BoundResult.Success`와 `BoundResult.Failed`는 모두 `fieldenum.enums`에서 직접적으로 접근이 가능합니다.\n",
    "따라서 다음과 같이 임포트해서 사용할 수도 있습니다."
   ]
  },
  {
   "cell_type": "code",
   "execution_count": 12,
   "metadata": {},
   "outputs": [],
   "source": [
    "from fieldenum.enums import BoundResult, Success, Failed  # noqa: I001\n",
    "\n",
    "assert Success(1000, Exception) == BoundResult.Success(1000, Exception)\n",
    "\n",
    "error = ValueError()\n",
    "assert Failed(error, Exception) == BoundResult.Failed(error, Exception)"
   ]
  },
  {
   "cell_type": "markdown",
   "metadata": {},
   "source": [
    "## BoundResult의 메서드 사용하기"
   ]
  },
  {
   "cell_type": "markdown",
   "metadata": {},
   "source": [
    "`BoundResult`는 더욱 간단한 방식으로 ROP를 실현하기 위한 다양한 메서드를 지원합니다."
   ]
  },
  {
   "cell_type": "code",
   "execution_count": 13,
   "metadata": {},
   "outputs": [],
   "source": [
    "# 이 장의 모든 코드들은 이 코드들이 먼저 실행된다고 가정하겠습니다.\n",
    "\n",
    "from fieldenum.enums import BoundResult, Success, Failed, Some  # noqa: I001\n",
    "\n",
    "@BoundResult.wrap(ArithmeticError)\n",
    "def calculate(value: str) -> float:\n",
    "    int_value = int(value)\n",
    "    return 100 / int_value"
   ]
  },
  {
   "cell_type": "markdown",
   "metadata": {},
   "source": [
    "### `BoundResult.unwrap([default])`"
   ]
  },
  {
   "cell_type": "markdown",
   "metadata": {},
   "source": [
    "기본적으로는 오류를 처리하기 위해서는 match문을 사용해야 합니다."
   ]
  },
  {
   "cell_type": "code",
   "execution_count": 14,
   "metadata": {},
   "outputs": [
    {
     "name": "stdout",
     "output_type": "stream",
     "text": [
      "20.0\n"
     ]
    }
   ],
   "source": [
    "match calculate(\"5\"):\n",
    "    case Success(ok, _):\n",
    "        print(ok)\n",
    "\n",
    "    case Failed(err, _):\n",
    "        raise err"
   ]
  },
  {
   "cell_type": "code",
   "execution_count": 15,
   "metadata": {},
   "outputs": [
    {
     "ename": "ZeroDivisionError",
     "evalue": "division by zero",
     "output_type": "error",
     "traceback": [
      "\u001b[1;31m---------------------------------------------------------------------------\u001b[0m",
      "\u001b[1;31mZeroDivisionError\u001b[0m                         Traceback (most recent call last)",
      "Cell \u001b[1;32mIn[15], line 6\u001b[0m\n\u001b[0;32m      3\u001b[0m     \u001b[38;5;28mprint\u001b[39m(ok)\n\u001b[0;32m      5\u001b[0m \u001b[38;5;28;01mcase\u001b[39;00m\u001b[38;5;250m \u001b[39mFailed(err, \u001b[38;5;28;01m_\u001b[39;00m):\n\u001b[1;32m----> 6\u001b[0m     \u001b[38;5;28;01mraise\u001b[39;00m err\n",
      "File \u001b[1;32m~\\fieldenum\\src\\fieldenum\\enums.py:186\u001b[0m, in \u001b[0;36mBoundResult.wrap.<locals>.decorator.<locals>.inner\u001b[1;34m(*args, **kwargs)\u001b[0m\n\u001b[0;32m    184\u001b[0m \u001b[38;5;28;01mdef\u001b[39;00m \u001b[38;5;21minner\u001b[39m(\u001b[38;5;241m*\u001b[39margs, \u001b[38;5;241m*\u001b[39m\u001b[38;5;241m*\u001b[39mkwargs):\n\u001b[0;32m    185\u001b[0m     \u001b[38;5;28;01mtry\u001b[39;00m:\n\u001b[1;32m--> 186\u001b[0m         \u001b[38;5;28;01mreturn\u001b[39;00m BoundResult\u001b[38;5;241m.\u001b[39mSuccess(\u001b[43mfunc\u001b[49m\u001b[43m(\u001b[49m\u001b[38;5;241;43m*\u001b[39;49m\u001b[43margs\u001b[49m\u001b[43m,\u001b[49m\u001b[43m \u001b[49m\u001b[38;5;241;43m*\u001b[39;49m\u001b[38;5;241;43m*\u001b[39;49m\u001b[43mkwargs\u001b[49m\u001b[43m)\u001b[49m, Bound)\n\u001b[0;32m    187\u001b[0m     \u001b[38;5;28;01mexcept\u001b[39;00m Bound \u001b[38;5;28;01mas\u001b[39;00m exc:\n\u001b[0;32m    188\u001b[0m         \u001b[38;5;28;01mreturn\u001b[39;00m BoundResult\u001b[38;5;241m.\u001b[39mFailed(exc, Bound)\n",
      "Cell \u001b[1;32mIn[13], line 7\u001b[0m, in \u001b[0;36mcalculate\u001b[1;34m(value)\u001b[0m\n\u001b[0;32m      4\u001b[0m \u001b[38;5;129m@BoundResult\u001b[39m\u001b[38;5;241m.\u001b[39mwrap(\u001b[38;5;167;01mArithmeticError\u001b[39;00m)\n\u001b[0;32m      5\u001b[0m \u001b[38;5;28;01mdef\u001b[39;00m \u001b[38;5;21mcalculate\u001b[39m(value: \u001b[38;5;28mstr\u001b[39m) \u001b[38;5;241m-\u001b[39m\u001b[38;5;241m>\u001b[39m \u001b[38;5;28mfloat\u001b[39m:\n\u001b[0;32m      6\u001b[0m     int_value \u001b[38;5;241m=\u001b[39m \u001b[38;5;28mint\u001b[39m(value)\n\u001b[1;32m----> 7\u001b[0m     \u001b[38;5;28;01mreturn\u001b[39;00m \u001b[38;5;241;43m100\u001b[39;49m\u001b[43m \u001b[49m\u001b[38;5;241;43m/\u001b[39;49m\u001b[43m \u001b[49m\u001b[43mint_value\u001b[49m\n",
      "\u001b[1;31mZeroDivisionError\u001b[0m: division by zero"
     ]
    }
   ],
   "source": [
    "match calculate(\"0\"):\n",
    "    case Success(ok, _):\n",
    "        print(ok)\n",
    "\n",
    "    case Failed(err, _):\n",
    "        raise err"
   ]
  },
  {
   "cell_type": "markdown",
   "metadata": {},
   "source": [
    "하지만 모든 오류마다 이러한 코드를 작성하기에는 힘이 들 겁니다. 따라서 `.unwrap()`을 통해 한 줄로 해당 코드와 동일한 작업을 하는 코드를 생성할 수 있습니다."
   ]
  },
  {
   "cell_type": "code",
   "execution_count": 16,
   "metadata": {},
   "outputs": [
    {
     "data": {
      "text/plain": [
       "20.0"
      ]
     },
     "execution_count": 16,
     "metadata": {},
     "output_type": "execute_result"
    }
   ],
   "source": [
    "calculate(\"5\").unwrap()"
   ]
  },
  {
   "cell_type": "code",
   "execution_count": 17,
   "metadata": {},
   "outputs": [
    {
     "ename": "ZeroDivisionError",
     "evalue": "division by zero",
     "output_type": "error",
     "traceback": [
      "\u001b[1;31m---------------------------------------------------------------------------\u001b[0m",
      "\u001b[1;31mZeroDivisionError\u001b[0m                         Traceback (most recent call last)",
      "Cell \u001b[1;32mIn[17], line 1\u001b[0m\n\u001b[1;32m----> 1\u001b[0m \u001b[43mcalculate\u001b[49m\u001b[43m(\u001b[49m\u001b[38;5;124;43m\"\u001b[39;49m\u001b[38;5;124;43m0\u001b[39;49m\u001b[38;5;124;43m\"\u001b[39;49m\u001b[43m)\u001b[49m\u001b[38;5;241;43m.\u001b[39;49m\u001b[43munwrap\u001b[49m\u001b[43m(\u001b[49m\u001b[43m)\u001b[49m\n",
      "File \u001b[1;32m~\\fieldenum\\src\\fieldenum\\enums.py:97\u001b[0m, in \u001b[0;36mBoundResult.unwrap\u001b[1;34m(self, default)\u001b[0m\n\u001b[0;32m     94\u001b[0m     \u001b[38;5;28;01mreturn\u001b[39;00m ok\n\u001b[0;32m     96\u001b[0m \u001b[38;5;28;01mcase\u001b[39;00m\u001b[38;5;250m \u001b[39mBoundResult\u001b[38;5;241m.\u001b[39mFailed(err, \u001b[38;5;28;01m_\u001b[39;00m) \u001b[38;5;28;01mif\u001b[39;00m default \u001b[38;5;129;01mis\u001b[39;00m _MISSING:\n\u001b[1;32m---> 97\u001b[0m     \u001b[38;5;28;01mraise\u001b[39;00m err\n\u001b[0;32m     99\u001b[0m \u001b[38;5;28;01mcase\u001b[39;00m\u001b[38;5;250m \u001b[39mBoundResult\u001b[38;5;241m.\u001b[39mFailed(err, \u001b[38;5;28;01m_\u001b[39;00m):\n\u001b[0;32m    100\u001b[0m     \u001b[38;5;28;01mreturn\u001b[39;00m default\n",
      "File \u001b[1;32m~\\fieldenum\\src\\fieldenum\\enums.py:186\u001b[0m, in \u001b[0;36mBoundResult.wrap.<locals>.decorator.<locals>.inner\u001b[1;34m(*args, **kwargs)\u001b[0m\n\u001b[0;32m    184\u001b[0m \u001b[38;5;28;01mdef\u001b[39;00m \u001b[38;5;21minner\u001b[39m(\u001b[38;5;241m*\u001b[39margs, \u001b[38;5;241m*\u001b[39m\u001b[38;5;241m*\u001b[39mkwargs):\n\u001b[0;32m    185\u001b[0m     \u001b[38;5;28;01mtry\u001b[39;00m:\n\u001b[1;32m--> 186\u001b[0m         \u001b[38;5;28;01mreturn\u001b[39;00m BoundResult\u001b[38;5;241m.\u001b[39mSuccess(\u001b[43mfunc\u001b[49m\u001b[43m(\u001b[49m\u001b[38;5;241;43m*\u001b[39;49m\u001b[43margs\u001b[49m\u001b[43m,\u001b[49m\u001b[43m \u001b[49m\u001b[38;5;241;43m*\u001b[39;49m\u001b[38;5;241;43m*\u001b[39;49m\u001b[43mkwargs\u001b[49m\u001b[43m)\u001b[49m, Bound)\n\u001b[0;32m    187\u001b[0m     \u001b[38;5;28;01mexcept\u001b[39;00m Bound \u001b[38;5;28;01mas\u001b[39;00m exc:\n\u001b[0;32m    188\u001b[0m         \u001b[38;5;28;01mreturn\u001b[39;00m BoundResult\u001b[38;5;241m.\u001b[39mFailed(exc, Bound)\n",
      "Cell \u001b[1;32mIn[13], line 7\u001b[0m, in \u001b[0;36mcalculate\u001b[1;34m(value)\u001b[0m\n\u001b[0;32m      4\u001b[0m \u001b[38;5;129m@BoundResult\u001b[39m\u001b[38;5;241m.\u001b[39mwrap(\u001b[38;5;167;01mArithmeticError\u001b[39;00m)\n\u001b[0;32m      5\u001b[0m \u001b[38;5;28;01mdef\u001b[39;00m \u001b[38;5;21mcalculate\u001b[39m(value: \u001b[38;5;28mstr\u001b[39m) \u001b[38;5;241m-\u001b[39m\u001b[38;5;241m>\u001b[39m \u001b[38;5;28mfloat\u001b[39m:\n\u001b[0;32m      6\u001b[0m     int_value \u001b[38;5;241m=\u001b[39m \u001b[38;5;28mint\u001b[39m(value)\n\u001b[1;32m----> 7\u001b[0m     \u001b[38;5;28;01mreturn\u001b[39;00m \u001b[38;5;241;43m100\u001b[39;49m\u001b[43m \u001b[49m\u001b[38;5;241;43m/\u001b[39;49m\u001b[43m \u001b[49m\u001b[43mint_value\u001b[49m\n",
      "\u001b[1;31mZeroDivisionError\u001b[0m: division by zero"
     ]
    }
   ],
   "source": [
    "calculate(\"0\").unwrap()"
   ]
  },
  {
   "cell_type": "markdown",
   "metadata": {},
   "source": [
    "러스트의 경우에는 `.unwrap_or(default)`라는 메서드를 통해 값이 실패일 때 기본값을 제공할 수 있습니다.\n",
    "\n",
    "이와 비슷하게 `.unwrap(default)`와 같이 `.unwrap` 메서드에 기본값을 제공하면 `BoundResult.Failed`일 경우 `default`를 리턴합니다."
   ]
  },
  {
   "cell_type": "code",
   "execution_count": 18,
   "metadata": {},
   "outputs": [
    {
     "data": {
      "text/plain": [
       "20.0"
      ]
     },
     "execution_count": 18,
     "metadata": {},
     "output_type": "execute_result"
    }
   ],
   "source": [
    "calculate(\"5\").unwrap(0.0)  # 기본값이 사용되지 않고 함수의 반환값이 unwrap됩니다."
   ]
  },
  {
   "cell_type": "code",
   "execution_count": 19,
   "metadata": {},
   "outputs": [
    {
     "data": {
      "text/plain": [
       "0"
      ]
     },
     "execution_count": 19,
     "metadata": {},
     "output_type": "execute_result"
    }
   ],
   "source": [
    "calculate(\"0\").unwrap(0.0)  # 결과가 실패였기 때문에 기본값이 사용됩니다."
   ]
  },
  {
   "cell_type": "markdown",
   "metadata": {},
   "source": [
    "### `bool()`"
   ]
  },
  {
   "cell_type": "markdown",
   "metadata": {},
   "source": [
    "`BoundResult`는 성공일 때는 `True`로 간주되고, 실패일 때는 `False`로 간주됩니다. 이 방식을 통해서도 간단하고 확실하게 오류인지 검증할 수 있습니다."
   ]
  },
  {
   "cell_type": "code",
   "execution_count": 20,
   "metadata": {},
   "outputs": [
    {
     "name": "stdout",
     "output_type": "stream",
     "text": [
      "success!\n"
     ]
    }
   ],
   "source": [
    "if calculate(\"5\"):\n",
    "    print(\"success!\")\n",
    "else:\n",
    "    print(\"failed...\")"
   ]
  },
  {
   "cell_type": "code",
   "execution_count": 21,
   "metadata": {},
   "outputs": [
    {
     "name": "stdout",
     "output_type": "stream",
     "text": [
      "failed...\n"
     ]
    }
   ],
   "source": [
    "if calculate(\"0\"):\n",
    "    print(\"success!\")\n",
    "else:\n",
    "    print(\"failed...\")"
   ]
  },
  {
   "cell_type": "markdown",
   "metadata": {},
   "source": [
    "### `BoundResult.map(func)`"
   ]
  },
  {
   "cell_type": "markdown",
   "metadata": {},
   "source": [
    "`.map(func)` 메서드는 `BoundResult.Success(value)`일 경우에는 `func(value)`를 실행하고 그 값을 다시 `BoundResult`에 넘깁니다.\n",
    "하지만 값이 `BoundResult.Failed`일 경우에는 아무것도 실행하지 않고 그대로를 넘깁니다."
   ]
  },
  {
   "cell_type": "code",
   "execution_count": 22,
   "metadata": {},
   "outputs": [
    {
     "data": {
      "text/plain": [
       "BoundResult.Success(2.0, <class 'ArithmeticError'>)"
      ]
     },
     "execution_count": 22,
     "metadata": {},
     "output_type": "execute_result"
    }
   ],
   "source": [
    "def revert(x: float) -> float:\n",
    "    return 1 / x\n",
    "\n",
    "calculate(\"200\").map(revert)  # 결과값인 0.5가 역수가 되어 2.0이 됩니다."
   ]
  },
  {
   "cell_type": "code",
   "execution_count": 23,
   "metadata": {},
   "outputs": [
    {
     "data": {
      "text/plain": [
       "BoundResult.Failed(ZeroDivisionError('division by zero'), <class 'ArithmeticError'>)"
      ]
     },
     "execution_count": 23,
     "metadata": {},
     "output_type": "execute_result"
    }
   ],
   "source": [
    "Success(0, ArithmeticError).map(revert)  # map의 함수가 실패했을 때는 `BoundResult.Failed`가 리턴됩니다."
   ]
  },
  {
   "cell_type": "code",
   "execution_count": 24,
   "metadata": {},
   "outputs": [
    {
     "data": {
      "text/plain": [
       "BoundResult.Failed(ZeroDivisionError('division by zero'), <class 'ArithmeticError'>)"
      ]
     },
     "execution_count": 24,
     "metadata": {},
     "output_type": "execute_result"
    }
   ],
   "source": [
    "calculate(\"0\").map(revert)  # `revert`가 수행되지 않고 기존의 Failed 배리언트가 다시 건네집니다."
   ]
  },
  {
   "cell_type": "markdown",
   "metadata": {},
   "source": [
    "이때 함수가 `BoundResult`를 반환한다면 해당 값을 기준으로 성패를 결정합니다. 만약 `BoundResult`가 반환되었을 때조차도 무조건 성공으로 처리하고 싶다면 `as_is`를 `True`로 두세요."
   ]
  },
  {
   "cell_type": "code",
   "execution_count": 25,
   "metadata": {},
   "outputs": [
    {
     "data": {
      "text/plain": [
       "BoundResult.Failed(ZeroDivisionError('division by zero'), <class 'ArithmeticError'>)"
      ]
     },
     "execution_count": 25,
     "metadata": {},
     "output_type": "execute_result"
    }
   ],
   "source": [
    "@BoundResult.wrap(ArithmeticError)\n",
    "def revert(x: float) -> float:\n",
    "    return 1 / x\n",
    "\n",
    "Success(0, ArithmeticError).map(revert)  # revert가 예외 대신 BoundResult를 리턴하지만 잘 처리합니다."
   ]
  },
  {
   "cell_type": "code",
   "execution_count": 26,
   "metadata": {},
   "outputs": [
    {
     "data": {
      "text/plain": [
       "BoundResult.Success(BoundResult.Failed(ZeroDivisionError('division by zero'), <class 'ArithmeticError'>), <class 'ArithmeticError'>)"
      ]
     },
     "execution_count": 26,
     "metadata": {},
     "output_type": "execute_result"
    }
   ],
   "source": [
    "# as_is를 True로 두면 revert 함수가 `BoundResult`를 리턴하면 성공한 것으로 처리하고 그 값을 그대로 값으로 삼습니다.\n",
    "# 일반적으로는 사용할 일이 없습니다.\n",
    "Success(0, ArithmeticError).map(revert, as_is=True)"
   ]
  },
  {
   "cell_type": "markdown",
   "metadata": {},
   "source": [
    "### `BoundResult.as_option()`"
   ]
  },
  {
   "cell_type": "markdown",
   "metadata": {},
   "source": [
    "아까 설명한 `enums` 모듈에는 사실 `Option`이라는 다른 enum도 포함되어 있습니다.\n",
    "\n",
    "어떨 때는 `BoundResult`가 `Option`으로 변환되는 것이 필요할 수 있습니다.\n",
    "\n",
    "그럴 때에 위해, `.as_option()` 메서드는 `BoundResult.Success`일 때는 `Option.Some`을, `BoundResult.Failed`일 때는 `Option.Nothing`을 내보냅니다."
   ]
  },
  {
   "cell_type": "code",
   "execution_count": 27,
   "metadata": {},
   "outputs": [
    {
     "data": {
      "text/plain": [
       "Option.Some(20.0)"
      ]
     },
     "execution_count": 27,
     "metadata": {},
     "output_type": "execute_result"
    }
   ],
   "source": [
    "calculate(\"5\").as_option()"
   ]
  },
  {
   "cell_type": "code",
   "execution_count": 28,
   "metadata": {},
   "outputs": [
    {
     "data": {
      "text/plain": [
       "Option.Nothing"
      ]
     },
     "execution_count": 28,
     "metadata": {},
     "output_type": "execute_result"
    }
   ],
   "source": [
    "calculate(\"0\").as_option()"
   ]
  },
  {
   "cell_type": "markdown",
   "metadata": {},
   "source": [
    "### `BoundResult.rebound(Bound)`"
   ]
  },
  {
   "cell_type": "markdown",
   "metadata": {},
   "source": [
    "바운드를 수정할 때는 `.rebound(Bound)`를 사용할 수 있습니다."
   ]
  },
  {
   "cell_type": "code",
   "execution_count": 29,
   "metadata": {},
   "outputs": [
    {
     "data": {
      "text/plain": [
       "BoundResult.Success(20.0, <class 'Exception'>)"
      ]
     },
     "execution_count": 29,
     "metadata": {},
     "output_type": "execute_result"
    }
   ],
   "source": [
    "calculate(\"5\").rebound(Exception)"
   ]
  },
  {
   "cell_type": "markdown",
   "metadata": {},
   "source": [
    "이때 새로운 `BoundResult` 객체가 만들어지고, 기존의 값은 변경되지 않는다는 사실에 주의하세요."
   ]
  },
  {
   "cell_type": "code",
   "execution_count": 30,
   "metadata": {},
   "outputs": [
    {
     "name": "stdout",
     "output_type": "stream",
     "text": [
      "BoundResult.Success(20.0, <class 'ArithmeticError'>)\n",
      "BoundResult.Success(20.0, <class 'Exception'>)\n",
      "BoundResult.Success(20.0, <class 'ArithmeticError'>)\n"
     ]
    }
   ],
   "source": [
    "result = calculate(\"5\")\n",
    "print(result)\n",
    "print(result.rebound(Exception))  # rebound가 새로운 객체를 반환합니다.\n",
    "print(result)  # 기존에 `result`에 있던 객체는 변환되지 않습니다."
   ]
  },
  {
   "cell_type": "markdown",
   "metadata": {},
   "source": [
    "## 잇기 심화"
   ]
  },
  {
   "cell_type": "markdown",
   "metadata": {},
   "source": [
    "`BoundResult`는 결과를 서로 잇기 위한 별도의 연산자를 제공하지는 않습니다. 하지만 다양한 기본 연산자들과 함수들을 통해 결과를 취합할 수 있습니다."
   ]
  },
  {
   "cell_type": "markdown",
   "metadata": {},
   "source": [
    "다음과 같은 두 함수가 있다고 해봅시다.\n",
    "`will_fail`는 이름처럼 항상 실패하고, `will_success`는 항상 성공합니다.\n",
    "단, 이 값들은 모두 `BoundResult.Failed`와 `BoundResult.Success`로 리턴됩니다."
   ]
  },
  {
   "cell_type": "code",
   "execution_count": 31,
   "metadata": {},
   "outputs": [],
   "source": [
    "@BoundResult.wrap(Exception)\n",
    "def will_fail(value: int) -> float:\n",
    "    raise ValueError(value)\n",
    "\n",
    "@BoundResult.wrap(Exception)\n",
    "def will_success(value: int) -> int:\n",
    "    return value"
   ]
  },
  {
   "cell_type": "markdown",
   "metadata": {},
   "source": [
    "우선 두 개의 연산 중 하나라도 실패한 게 있는지 확인하고 싶다면 `and`를 통해 결과를 이어 확인할 수 있습니다."
   ]
  },
  {
   "cell_type": "code",
   "execution_count": 32,
   "metadata": {},
   "outputs": [
    {
     "data": {
      "text/plain": [
       "BoundResult.Failed(ValueError(1), <class 'Exception'>)"
      ]
     },
     "execution_count": 32,
     "metadata": {},
     "output_type": "execute_result"
    }
   ],
   "source": [
    "will_fail(1) and will_success(2)  # 한 결과가 Failed이므로 해당 값을 리턴합니다."
   ]
  },
  {
   "cell_type": "code",
   "execution_count": 33,
   "metadata": {},
   "outputs": [
    {
     "data": {
      "text/plain": [
       "BoundResult.Success(2, <class 'Exception'>)"
      ]
     },
     "execution_count": 33,
     "metadata": {},
     "output_type": "execute_result"
    }
   ],
   "source": [
    "will_success(1) and will_success(2)  # 모든 결과가 Success이므로 성공을 리턴합니다."
   ]
  },
  {
   "cell_type": "code",
   "execution_count": 34,
   "metadata": {},
   "outputs": [
    {
     "data": {
      "text/plain": [
       "BoundResult.Success(4, <class 'Exception'>)"
      ]
     },
     "execution_count": 34,
     "metadata": {},
     "output_type": "execute_result"
    }
   ],
   "source": [
    "will_success(1) and will_success(2) and will_success(3) and will_success(4)  # 임의의 길이에서도 작동합니다."
   ]
  },
  {
   "cell_type": "code",
   "execution_count": 35,
   "metadata": {},
   "outputs": [
    {
     "data": {
      "text/plain": [
       "BoundResult.Failed(ValueError(3), <class 'Exception'>)"
      ]
     },
     "execution_count": 35,
     "metadata": {},
     "output_type": "execute_result"
    }
   ],
   "source": [
    "will_success(1) and will_success(2) and will_fail(3) and will_success(4)"
   ]
  },
  {
   "cell_type": "markdown",
   "metadata": {},
   "source": [
    "반대로 전체 중 하나라도 성공한 게 있는지 확인하려면 `or`을 사용할 수 있습니다. 마찬가지로 임의의 길이로 사용할 수 있습니다."
   ]
  },
  {
   "cell_type": "code",
   "execution_count": 36,
   "metadata": {},
   "outputs": [
    {
     "data": {
      "text/plain": [
       "BoundResult.Success(2, <class 'Exception'>)"
      ]
     },
     "execution_count": 36,
     "metadata": {},
     "output_type": "execute_result"
    }
   ],
   "source": [
    "will_fail(1) or will_success(2)"
   ]
  },
  {
   "cell_type": "code",
   "execution_count": 37,
   "metadata": {},
   "outputs": [
    {
     "data": {
      "text/plain": [
       "BoundResult.Failed(ValueError(4), <class 'Exception'>)"
      ]
     },
     "execution_count": 37,
     "metadata": {},
     "output_type": "execute_result"
    }
   ],
   "source": [
    "will_fail(1) or will_fail(2) or will_fail(3) or will_fail(4)"
   ]
  },
  {
   "cell_type": "code",
   "execution_count": 38,
   "metadata": {},
   "outputs": [
    {
     "data": {
      "text/plain": [
       "BoundResult.Success(3, <class 'Exception'>)"
      ]
     },
     "execution_count": 38,
     "metadata": {},
     "output_type": "execute_result"
    }
   ],
   "source": [
    "will_fail(1) or will_fail(2) or will_success(3) or will_fail(4)"
   ]
  },
  {
   "cell_type": "markdown",
   "metadata": {},
   "source": [
    "만약 결과의 개수가 임의적이거나 너무 많아 고정된 길이로 연결하기 어렵다면 `key=bool`로 설정한 `max`나 `min`을 이용할 수도 있습니다."
   ]
  },
  {
   "cell_type": "code",
   "execution_count": 39,
   "metadata": {},
   "outputs": [
    {
     "data": {
      "text/plain": [
       "BoundResult.Failed(ValueError(0), <class 'Exception'>)"
      ]
     },
     "execution_count": 39,
     "metadata": {},
     "output_type": "execute_result"
    }
   ],
   "source": [
    "max((will_fail(i) for i in range(100)), key=bool)  # max에서 모든 함수가 실패했으므로 가장 처음에 실패한 값을 내보냅니다."
   ]
  },
  {
   "cell_type": "code",
   "execution_count": 40,
   "metadata": {},
   "outputs": [
    {
     "data": {
      "text/plain": [
       "BoundResult.Success(100, <class 'Exception'>)"
      ]
     },
     "execution_count": 40,
     "metadata": {},
     "output_type": "execute_result"
    }
   ],
   "source": [
    "max(*(will_fail(i) for i in range(100)), will_success(100), key=bool)  # max에서 한 함수가 성공했으므로 해당 값을 내보냅니다."
   ]
  },
  {
   "cell_type": "code",
   "execution_count": 41,
   "metadata": {},
   "outputs": [
    {
     "data": {
      "text/plain": [
       "BoundResult.Failed(ValueError(100), <class 'Exception'>)"
      ]
     },
     "execution_count": 41,
     "metadata": {},
     "output_type": "execute_result"
    }
   ],
   "source": [
    "min(*(will_success(i) for i in range(100)), will_fail(100), key=bool)  # min에서 한 함수가 실패했으므로 해당 값을 내보냅니다."
   ]
  },
  {
   "cell_type": "markdown",
   "metadata": {},
   "source": [
    "만약 결과가 필요하지 않고 성패 여부만 궁금하다면 `all`과 `any`를 사용할 수 있습니다.\n",
    "\n",
    "* `all`: 모든 함수가 성공했다면 `True`, 하나라도 실패했다면 `False`를 리턴합니다.\n",
    "* `any`: 한 함수라도 성공했다면 `True`, 모든 함수가 실패했다면 `False`를 리턴합니다.\n",
    "\n",
    "기존의 `all`과 `any`의 뜻과 일치하므로 그리 어렵지 않게 받아들이실 수 있을 것입니다.\n",
    "또한 이 함수들은 lazy하므로 `min`, `max`보다 살짝 더 효율적입니다."
   ]
  },
  {
   "cell_type": "code",
   "execution_count": 42,
   "metadata": {},
   "outputs": [
    {
     "data": {
      "text/plain": [
       "True"
      ]
     },
     "execution_count": 42,
     "metadata": {},
     "output_type": "execute_result"
    }
   ],
   "source": [
    "all(will_success(i) for i in range(100))  #  모두 성공했으므로 True를 리턴합니다."
   ]
  },
  {
   "cell_type": "code",
   "execution_count": 43,
   "metadata": {},
   "outputs": [
    {
     "data": {
      "text/plain": [
       "False"
      ]
     },
     "execution_count": 43,
     "metadata": {},
     "output_type": "execute_result"
    }
   ],
   "source": [
    "# 하나가 실패했으므로 False를 리턴합니다. 이 과정에서 뒤쪽을 일일이 확인하지 않고 `will_fail`을 만나자마자 바로 리턴합니다.\n",
    "all((will_fail(-1), *(will_success(i) for i in range(100))))"
   ]
  },
  {
   "cell_type": "code",
   "execution_count": 44,
   "metadata": {},
   "outputs": [
    {
     "data": {
      "text/plain": [
       "False"
      ]
     },
     "execution_count": 44,
     "metadata": {},
     "output_type": "execute_result"
    }
   ],
   "source": [
    "any(will_fail(i) for i in range(100))  #  모두 실패했으므로 False를 리턴합니다."
   ]
  },
  {
   "cell_type": "code",
   "execution_count": 45,
   "metadata": {},
   "outputs": [
    {
     "data": {
      "text/plain": [
       "True"
      ]
     },
     "execution_count": 45,
     "metadata": {},
     "output_type": "execute_result"
    }
   ],
   "source": [
    "# 하나가 성공했으므로 True를 리턴합니다. 이 과정에서 뒤쪽을 일일이 확인하지 않고 `will_success`을 만나자마자 바로 리턴합니다.\n",
    "any((will_success(-1), *(will_fail(i) for i in range(100))))"
   ]
  }
 ],
 "metadata": {
  "kernelspec": {
   "display_name": ".venv",
   "language": "python",
   "name": "python3"
  },
  "language_info": {
   "codemirror_mode": {
    "name": "ipython",
    "version": 3
   },
   "file_extension": ".py",
   "mimetype": "text/x-python",
   "name": "python",
   "nbconvert_exporter": "python",
   "pygments_lexer": "ipython3",
   "version": "3.12.2"
  }
 },
 "nbformat": 4,
 "nbformat_minor": 2
}
